{
  "nbformat": 4,
  "nbformat_minor": 0,
  "metadata": {
    "colab": {
      "name": "211115 [최적파라메타]bagging_ensemble_RandomForest .ipynb",
      "provenance": [],
      "collapsed_sections": [],
      "mount_file_id": "1rKfM34iyCKMFxT-RXz2riofmlEGkiIY-",
      "authorship_tag": "ABX9TyPukwmEosyMXo5ELuLS8LJn",
      "include_colab_link": true
    },
    "kernelspec": {
      "name": "python3",
      "display_name": "Python 3"
    },
    "language_info": {
      "name": "python"
    }
  },
  "cells": [
    {
      "cell_type": "markdown",
      "metadata": {
        "id": "view-in-github",
        "colab_type": "text"
      },
      "source": [
        "<a href=\"https://colab.research.google.com/github/fullbread9977/Titanic-bagging_ensemble_RandomForest-/blob/main/211115_%5BHyperparameter%20Optimization%5Dbagging_ensemble_RandomForest_.ipynb\" target=\"_parent\"><img src=\"https://colab.research.google.com/assets/colab-badge.svg\" alt=\"Open In Colab\"/></a>"
      ]
    },
    {
      "cell_type": "code",
      "metadata": {
        "colab": {
          "base_uri": "https://localhost:8080/"
        },
        "id": "q44lP1ZLBvnh",
        "outputId": "5731e0dc-4d44-40a0-94a1-0f20b95d78d2"
      },
      "source": [
        "from google.colab import drive\n",
        "drive.mount('/content/drive')"
      ],
      "execution_count": null,
      "outputs": [
        {
          "output_type": "stream",
          "name": "stdout",
          "text": [
            "Drive already mounted at /content/drive; to attempt to forcibly remount, call drive.mount(\"/content/drive\", force_remount=True).\n"
          ]
        }
      ]
    },
    {
      "cell_type": "markdown",
      "metadata": {
        "id": "Wb0NlMWfB_mK"
      },
      "source": [
        "파일을 읽어오기 위해 구글 드라이브를 연결한다"
      ]
    },
    {
      "cell_type": "code",
      "metadata": {
        "id": "zNA9R3XV-Pp4"
      },
      "source": [
        "import pandas as pd\n",
        "import numpy as np\n",
        "import matplotlib.pyplot as plt\n",
        "import seaborn as sns\n",
        "\n",
        "from sklearn.tree import DecisionTreeClassifier\n",
        "from sklearn.ensemble import RandomForestClassifier, GradientBoostingClassifier\n",
        "from sklearn.model_selection import train_test_split, GridSearchCV\n",
        "from sklearn.metrics import accuracy_score"
      ],
      "execution_count": null,
      "outputs": []
    },
    {
      "cell_type": "markdown",
      "metadata": {
        "id": "phb4ucRQBtYh"
      },
      "source": [
        "필요한 라이브러리를 불러온다"
      ]
    },
    {
      "cell_type": "markdown",
      "metadata": {
        "id": "BM7wbMowCsdh"
      },
      "source": [
        "사용한 파일: [다운로드 링크](https://www.kaggle.com/ash316/eda-to-prediction-dietanic/data?select=train.csv)"
      ]
    },
    {
      "cell_type": "code",
      "metadata": {
        "colab": {
          "base_uri": "https://localhost:8080/",
          "height": 203
        },
        "id": "k48uABOSCGIG",
        "outputId": "616cb755-6dce-4261-9038-9b5185fe088d"
      },
      "source": [
        "data = pd.read_csv('/content/drive/MyDrive/titanic/train.csv')\n",
        "data.head()"
      ],
      "execution_count": null,
      "outputs": [
        {
          "output_type": "execute_result",
          "data": {
            "text/html": [
              "<div>\n",
              "<style scoped>\n",
              "    .dataframe tbody tr th:only-of-type {\n",
              "        vertical-align: middle;\n",
              "    }\n",
              "\n",
              "    .dataframe tbody tr th {\n",
              "        vertical-align: top;\n",
              "    }\n",
              "\n",
              "    .dataframe thead th {\n",
              "        text-align: right;\n",
              "    }\n",
              "</style>\n",
              "<table border=\"1\" class=\"dataframe\">\n",
              "  <thead>\n",
              "    <tr style=\"text-align: right;\">\n",
              "      <th></th>\n",
              "      <th>PassengerId</th>\n",
              "      <th>Survived</th>\n",
              "      <th>Pclass</th>\n",
              "      <th>Name</th>\n",
              "      <th>Sex</th>\n",
              "      <th>Age</th>\n",
              "      <th>SibSp</th>\n",
              "      <th>Parch</th>\n",
              "      <th>Ticket</th>\n",
              "      <th>Fare</th>\n",
              "      <th>Cabin</th>\n",
              "      <th>Embarked</th>\n",
              "    </tr>\n",
              "  </thead>\n",
              "  <tbody>\n",
              "    <tr>\n",
              "      <th>0</th>\n",
              "      <td>1</td>\n",
              "      <td>0</td>\n",
              "      <td>3</td>\n",
              "      <td>Braund, Mr. Owen Harris</td>\n",
              "      <td>male</td>\n",
              "      <td>22.0</td>\n",
              "      <td>1</td>\n",
              "      <td>0</td>\n",
              "      <td>A/5 21171</td>\n",
              "      <td>7.2500</td>\n",
              "      <td>NaN</td>\n",
              "      <td>S</td>\n",
              "    </tr>\n",
              "    <tr>\n",
              "      <th>1</th>\n",
              "      <td>2</td>\n",
              "      <td>1</td>\n",
              "      <td>1</td>\n",
              "      <td>Cumings, Mrs. John Bradley (Florence Briggs Th...</td>\n",
              "      <td>female</td>\n",
              "      <td>38.0</td>\n",
              "      <td>1</td>\n",
              "      <td>0</td>\n",
              "      <td>PC 17599</td>\n",
              "      <td>71.2833</td>\n",
              "      <td>C85</td>\n",
              "      <td>C</td>\n",
              "    </tr>\n",
              "    <tr>\n",
              "      <th>2</th>\n",
              "      <td>3</td>\n",
              "      <td>1</td>\n",
              "      <td>3</td>\n",
              "      <td>Heikkinen, Miss. Laina</td>\n",
              "      <td>female</td>\n",
              "      <td>26.0</td>\n",
              "      <td>0</td>\n",
              "      <td>0</td>\n",
              "      <td>STON/O2. 3101282</td>\n",
              "      <td>7.9250</td>\n",
              "      <td>NaN</td>\n",
              "      <td>S</td>\n",
              "    </tr>\n",
              "    <tr>\n",
              "      <th>3</th>\n",
              "      <td>4</td>\n",
              "      <td>1</td>\n",
              "      <td>1</td>\n",
              "      <td>Futrelle, Mrs. Jacques Heath (Lily May Peel)</td>\n",
              "      <td>female</td>\n",
              "      <td>35.0</td>\n",
              "      <td>1</td>\n",
              "      <td>0</td>\n",
              "      <td>113803</td>\n",
              "      <td>53.1000</td>\n",
              "      <td>C123</td>\n",
              "      <td>S</td>\n",
              "    </tr>\n",
              "    <tr>\n",
              "      <th>4</th>\n",
              "      <td>5</td>\n",
              "      <td>0</td>\n",
              "      <td>3</td>\n",
              "      <td>Allen, Mr. William Henry</td>\n",
              "      <td>male</td>\n",
              "      <td>35.0</td>\n",
              "      <td>0</td>\n",
              "      <td>0</td>\n",
              "      <td>373450</td>\n",
              "      <td>8.0500</td>\n",
              "      <td>NaN</td>\n",
              "      <td>S</td>\n",
              "    </tr>\n",
              "  </tbody>\n",
              "</table>\n",
              "</div>"
            ],
            "text/plain": [
              "   PassengerId  Survived  Pclass  ...     Fare Cabin  Embarked\n",
              "0            1         0       3  ...   7.2500   NaN         S\n",
              "1            2         1       1  ...  71.2833   C85         C\n",
              "2            3         1       3  ...   7.9250   NaN         S\n",
              "3            4         1       1  ...  53.1000  C123         S\n",
              "4            5         0       3  ...   8.0500   NaN         S\n",
              "\n",
              "[5 rows x 12 columns]"
            ]
          },
          "metadata": {},
          "execution_count": 5
        }
      ]
    },
    {
      "cell_type": "markdown",
      "metadata": {
        "id": "t72FcWYXDJfD"
      },
      "source": [
        "파일을 다운로드 한 것을 내드라이브 경로로 설정 후 데이터의 상단부분만 불러온다"
      ]
    },
    {
      "cell_type": "markdown",
      "metadata": {
        "id": "lIlvRQbwGrzu"
      },
      "source": [
        "# 데이터 전처리"
      ]
    },
    {
      "cell_type": "code",
      "metadata": {
        "id": "AkUWalTNEwb5",
        "colab": {
          "base_uri": "https://localhost:8080/"
        },
        "outputId": "54c8e361-7140-4b78-ae2e-8f0ef4dfe347"
      },
      "source": [
        "data.info()"
      ],
      "execution_count": null,
      "outputs": [
        {
          "output_type": "stream",
          "name": "stdout",
          "text": [
            "<class 'pandas.core.frame.DataFrame'>\n",
            "RangeIndex: 891 entries, 0 to 890\n",
            "Data columns (total 12 columns):\n",
            " #   Column       Non-Null Count  Dtype  \n",
            "---  ------       --------------  -----  \n",
            " 0   PassengerId  891 non-null    int64  \n",
            " 1   Survived     891 non-null    int64  \n",
            " 2   Pclass       891 non-null    int64  \n",
            " 3   Name         891 non-null    object \n",
            " 4   Sex          891 non-null    object \n",
            " 5   Age          714 non-null    float64\n",
            " 6   SibSp        891 non-null    int64  \n",
            " 7   Parch        891 non-null    int64  \n",
            " 8   Ticket       891 non-null    object \n",
            " 9   Fare         891 non-null    float64\n",
            " 10  Cabin        204 non-null    object \n",
            " 11  Embarked     889 non-null    object \n",
            "dtypes: float64(2), int64(5), object(5)\n",
            "memory usage: 83.7+ KB\n"
          ]
        }
      ]
    },
    {
      "cell_type": "markdown",
      "metadata": {
        "id": "rz8MN58LE3jW"
      },
      "source": [
        "데이터의 타입을 보기 위해 data.info()를 입력"
      ]
    },
    {
      "cell_type": "markdown",
      "metadata": {
        "id": "p5VqMcJsFCwR"
      },
      "source": [
        "- PassengerID : 아마도 행렬번호\n",
        "- Suervived : 생존여부\n",
        " >targer label 1,0으로 표현 \n",
        "- Pclass : 티켓의 클래스\n",
        ">1 = 1st    \n",
        "2 = 2nd    \n",
        "3 = 3rd   \n",
        "클래스로 나뉨 \n",
        "- sex : 성별\n",
        "> male, female로 구분 \n",
        "- Age: 나이\n",
        "- sibSp : 함께 탑승한 형제와 배우자의 수\n",
        "- parch : 함께 탑승한 부모, 아이의 수\n",
        "- ticket : 티켓번호 \n",
        "> 알파벳 + 숫자\n",
        "- fare : 탑승료\n",
        "- cabin : 객실번호\n",
        "> 알파벳 + 숫자\n",
        "- embared : 탑승항구\n",
        "> C = Cherbourg,    \n",
        "Q = Queenstown,    \n",
        "S= Southampton\n"
      ]
    },
    {
      "cell_type": "code",
      "metadata": {
        "id": "irFIPGQsDQco"
      },
      "source": [
        "data['Embarked'].fillna('S', inplace = True)\n",
        "data['Fare'].fillna(0, inplace=True)\n",
        "data['Fare'] = data['Fare'].map(lambda x : np.log(x) if x > 0 else 0)"
      ],
      "execution_count": null,
      "outputs": []
    },
    {
      "cell_type": "markdown",
      "metadata": {
        "id": "CMNfqiv4DVTQ"
      },
      "source": [
        "- 데이터프레임의 탑승항구(Embarked) 행의 결측값을 S으로 할당한다\n",
        "- 데이터프레임의 요금(Fare)행의 결측값을 0으로 할당한다\n",
        "\n",
        "\n"
      ]
    },
    {
      "cell_type": "code",
      "metadata": {
        "id": "6FShukEcEscw"
      },
      "source": [
        "data['Initial'] = data['Name'].str.extract('([A-Za-z]+)\\.')\n",
        "data['Initial'].replace(['Mlle','Mme','Ms','Dr','Major','Lady','Countess','Jonkheer','Col','Rev','Capt','Sir','Don', 'Dona'],['Miss','Miss','Miss','Mr','Mr','Mrs','Mrs','Other','Other','Other','Mr','Mr','Mr','Other'],inplace=True)\n",
        "mapping = {\n",
        "    \"Mr\":0,\n",
        "    \"Miss\":1,\n",
        "    \"Mrs\" : 1,\n",
        "    \"Master\":2,\n",
        "    \"Other\":3\n",
        "}\n",
        "\n",
        "data['Initial'] = data['Initial'].map(mapping)"
      ],
      "execution_count": null,
      "outputs": []
    },
    {
      "cell_type": "markdown",
      "metadata": {
        "id": "1OP6OwEeIudn"
      },
      "source": [
        "Initial행을 만들어 탑승자의 신분과 성별 호칭으로 구분하여    \n",
        "남자 Mr 0,         \n",
        "여자(미혼) Miss 1,     \n",
        "여자(기혼) Mrs 1,      \n",
        "아이 Master 2,    \n",
        "그 밖의 사람들 Other 3    \n",
        "으로 구분하여 행을 새로 만든다.\n"
      ]
    },
    {
      "cell_type": "code",
      "metadata": {
        "id": "XA5AiXKVHeWc"
      },
      "source": [
        "mapping_sex = {\n",
        "    'male' : 0,\n",
        "    'female': 1\n",
        "}\n",
        "\n",
        "mapping_em = {\n",
        "    'S' :0,\n",
        "    'C' :1,\n",
        "    'Q' :2\n",
        "}\n",
        "\n",
        "\n",
        "data['Sex'] = data['Sex'].map(mapping_sex)\n",
        "data['Embarked'] = data['Embarked'].map(mapping_em)\n",
        "\n",
        "\n",
        "data.drop(['PassengerId', \"Ticket\", \"Cabin\", \"Name\"], axis = 1, inplace = True)"
      ],
      "execution_count": null,
      "outputs": []
    },
    {
      "cell_type": "markdown",
      "metadata": {
        "id": "oyHvXNu4KRDx"
      },
      "source": [
        "성별은 남자는 0, 여자는1     \n",
        "탑승항구 S는 0, C는 1, Q는 2 로 값을 대체하고    \n",
        "PassengerId, Ticket, Cabin , Name을 데이터 프레임에서 제외한다"
      ]
    },
    {
      "cell_type": "code",
      "metadata": {
        "colab": {
          "base_uri": "https://localhost:8080/"
        },
        "id": "mEK1r6DeHgLa",
        "outputId": "f5b8133c-b0af-4c97-ae5d-819831084073"
      },
      "source": [
        "data.groupby('Initial')['Age'].mean()"
      ],
      "execution_count": null,
      "outputs": [
        {
          "output_type": "execute_result",
          "data": {
            "text/plain": [
              "Initial\n",
              "0    32.739609\n",
              "1    27.834615\n",
              "2     4.574167\n",
              "3    45.888889\n",
              "Name: Age, dtype: float64"
            ]
          },
          "metadata": {},
          "execution_count": 10
        }
      ]
    },
    {
      "cell_type": "markdown",
      "metadata": {
        "id": "uzxMoEF2LX45"
      },
      "source": [
        "데이터의 Initial 값으로 나이 테이블을 묶어 평균을 낸다     \n"
      ]
    },
    {
      "cell_type": "code",
      "metadata": {
        "id": "a-essXV4HiJA"
      },
      "source": [
        "data.loc[ (data['Age'].isnull()) & (data['Initial'] == 0), 'Age' ] = 32\n",
        "data.loc[ (data['Age'].isnull()) & (data['Initial'] == 1), 'Age' ] = 28\n",
        "data.loc[ (data['Age'].isnull()) & (data['Initial'] == 2), 'Age' ] = 5\n",
        "data.loc[ (data['Age'].isnull()) & (data['Initial'] == 3), 'Age' ] = 45"
      ],
      "execution_count": null,
      "outputs": []
    },
    {
      "cell_type": "markdown",
      "metadata": {
        "id": "PxCBRUv_LkkJ"
      },
      "source": [
        "Age 데이터의 결측값을 평균으로 대체하여 넣는다    \n",
        "남자의 경우엔 32,    \n",
        "여자의 경우엔 28,   \n",
        "아이의 경우엔 5     \n",
        "중년의 경우엔 45로 결측값을 대체한다."
      ]
    },
    {
      "cell_type": "code",
      "metadata": {
        "colab": {
          "base_uri": "https://localhost:8080/",
          "height": 203
        },
        "id": "07raldfPHjwB",
        "outputId": "f74a8a07-63b6-486b-f2c1-c1592514239c"
      },
      "source": [
        "\n",
        "data.head()"
      ],
      "execution_count": null,
      "outputs": [
        {
          "output_type": "execute_result",
          "data": {
            "text/html": [
              "<div>\n",
              "<style scoped>\n",
              "    .dataframe tbody tr th:only-of-type {\n",
              "        vertical-align: middle;\n",
              "    }\n",
              "\n",
              "    .dataframe tbody tr th {\n",
              "        vertical-align: top;\n",
              "    }\n",
              "\n",
              "    .dataframe thead th {\n",
              "        text-align: right;\n",
              "    }\n",
              "</style>\n",
              "<table border=\"1\" class=\"dataframe\">\n",
              "  <thead>\n",
              "    <tr style=\"text-align: right;\">\n",
              "      <th></th>\n",
              "      <th>Survived</th>\n",
              "      <th>Pclass</th>\n",
              "      <th>Sex</th>\n",
              "      <th>Age</th>\n",
              "      <th>SibSp</th>\n",
              "      <th>Parch</th>\n",
              "      <th>Fare</th>\n",
              "      <th>Embarked</th>\n",
              "      <th>Initial</th>\n",
              "    </tr>\n",
              "  </thead>\n",
              "  <tbody>\n",
              "    <tr>\n",
              "      <th>0</th>\n",
              "      <td>0</td>\n",
              "      <td>3</td>\n",
              "      <td>0</td>\n",
              "      <td>22.0</td>\n",
              "      <td>1</td>\n",
              "      <td>0</td>\n",
              "      <td>1.981001</td>\n",
              "      <td>0</td>\n",
              "      <td>0</td>\n",
              "    </tr>\n",
              "    <tr>\n",
              "      <th>1</th>\n",
              "      <td>1</td>\n",
              "      <td>1</td>\n",
              "      <td>1</td>\n",
              "      <td>38.0</td>\n",
              "      <td>1</td>\n",
              "      <td>0</td>\n",
              "      <td>4.266662</td>\n",
              "      <td>1</td>\n",
              "      <td>1</td>\n",
              "    </tr>\n",
              "    <tr>\n",
              "      <th>2</th>\n",
              "      <td>1</td>\n",
              "      <td>3</td>\n",
              "      <td>1</td>\n",
              "      <td>26.0</td>\n",
              "      <td>0</td>\n",
              "      <td>0</td>\n",
              "      <td>2.070022</td>\n",
              "      <td>0</td>\n",
              "      <td>1</td>\n",
              "    </tr>\n",
              "    <tr>\n",
              "      <th>3</th>\n",
              "      <td>1</td>\n",
              "      <td>1</td>\n",
              "      <td>1</td>\n",
              "      <td>35.0</td>\n",
              "      <td>1</td>\n",
              "      <td>0</td>\n",
              "      <td>3.972177</td>\n",
              "      <td>0</td>\n",
              "      <td>1</td>\n",
              "    </tr>\n",
              "    <tr>\n",
              "      <th>4</th>\n",
              "      <td>0</td>\n",
              "      <td>3</td>\n",
              "      <td>0</td>\n",
              "      <td>35.0</td>\n",
              "      <td>0</td>\n",
              "      <td>0</td>\n",
              "      <td>2.085672</td>\n",
              "      <td>0</td>\n",
              "      <td>0</td>\n",
              "    </tr>\n",
              "  </tbody>\n",
              "</table>\n",
              "</div>"
            ],
            "text/plain": [
              "   Survived  Pclass  Sex   Age  SibSp  Parch      Fare  Embarked  Initial\n",
              "0         0       3    0  22.0      1      0  1.981001         0        0\n",
              "1         1       1    1  38.0      1      0  4.266662         1        1\n",
              "2         1       3    1  26.0      0      0  2.070022         0        1\n",
              "3         1       1    1  35.0      1      0  3.972177         0        1\n",
              "4         0       3    0  35.0      0      0  2.085672         0        0"
            ]
          },
          "metadata": {},
          "execution_count": 12
        }
      ]
    },
    {
      "cell_type": "markdown",
      "metadata": {
        "id": "V8iUgPDZG96J"
      },
      "source": [
        "# 학습데이터 시험데이터 구분"
      ]
    },
    {
      "cell_type": "markdown",
      "metadata": {
        "id": "xneAbU_5MmuI"
      },
      "source": [
        "제대로 데이터가 바꼈는지 보기위해 상위 데이터를 불러온다"
      ]
    },
    {
      "cell_type": "code",
      "metadata": {
        "id": "cDOm8275HlPB"
      },
      "source": [
        "y = data['Survived']\n",
        "X = data.drop('Survived', axis = 1)"
      ],
      "execution_count": null,
      "outputs": []
    },
    {
      "cell_type": "markdown",
      "metadata": {
        "id": "_a1x85_OMq0d"
      },
      "source": [
        "X의 데이터에는 생존여부를 제외한 데이터들, \n",
        "y의 데이터에는 생존 데이터를 넣는다."
      ]
    },
    {
      "cell_type": "code",
      "metadata": {
        "id": "EtoZGarMHnn0"
      },
      "source": [
        "\n",
        "X_train, X_test, y_train, y_test = train_test_split(X, y, test_size = 0.2, random_state=42)"
      ],
      "execution_count": null,
      "outputs": []
    },
    {
      "cell_type": "markdown",
      "metadata": {
        "id": "WIibqQObM3Ta"
      },
      "source": [
        "X과 y의 학습과 시험데이터를 8:2로 나눠 랜덤방법은 42의 방식으로 데이터를 무작위로 집어넣는다"
      ]
    },
    {
      "cell_type": "code",
      "metadata": {
        "colab": {
          "base_uri": "https://localhost:8080/"
        },
        "id": "ul8CuyDNHqVE",
        "outputId": "471d55fd-f340-46bf-def0-963f3f13257a"
      },
      "source": [
        "rf = RandomForestClassifier(random_state=42)\n",
        "rf.fit(X_train, y_train)"
      ],
      "execution_count": null,
      "outputs": [
        {
          "output_type": "execute_result",
          "data": {
            "text/plain": [
              "RandomForestClassifier(bootstrap=True, ccp_alpha=0.0, class_weight=None,\n",
              "                       criterion='gini', max_depth=None, max_features='auto',\n",
              "                       max_leaf_nodes=None, max_samples=None,\n",
              "                       min_impurity_decrease=0.0, min_impurity_split=None,\n",
              "                       min_samples_leaf=1, min_samples_split=2,\n",
              "                       min_weight_fraction_leaf=0.0, n_estimators=100,\n",
              "                       n_jobs=None, oob_score=False, random_state=42, verbose=0,\n",
              "                       warm_start=False)"
            ]
          },
          "metadata": {},
          "execution_count": 15
        }
      ]
    },
    {
      "cell_type": "markdown",
      "metadata": {
        "id": "gw4agLeCNCT9"
      },
      "source": [
        "랜덤포레스트 모델을 불러와 학습데이터들을 모델에 넣는다.     \n",
        "부트스트랩을 사용하고,불평등지수는 지니계수를 사용하며, 최대가지 수는 자동,      \n",
        "제일작은 잎의 숫자는 1,가지 수는 2로 분열한다. 100번 반복하여 모델을 돌린다."
      ]
    },
    {
      "cell_type": "code",
      "metadata": {
        "colab": {
          "base_uri": "https://localhost:8080/"
        },
        "id": "JS21PGPLHs3l",
        "outputId": "ce4af875-57ce-4aa1-9f78-703bc6073583"
      },
      "source": [
        "pred = rf.predict(X_test)\n",
        "print(\"정확도 :{0:.3f}\".format(accuracy_score(y_test, pred)))"
      ],
      "execution_count": null,
      "outputs": [
        {
          "output_type": "stream",
          "name": "stdout",
          "text": [
            "정확도 :0.844\n"
          ]
        }
      ]
    },
    {
      "cell_type": "markdown",
      "metadata": {
        "id": "eXGYtKSIOTyy"
      },
      "source": [
        "정확도는 84.4%"
      ]
    },
    {
      "cell_type": "code",
      "metadata": {
        "colab": {
          "base_uri": "https://localhost:8080/"
        },
        "id": "vERNYdTLHvft",
        "outputId": "34ed287e-859c-491d-a3cb-5d5e45847b77"
      },
      "source": [
        "gb = GradientBoostingClassifier(random_state=42)\n",
        "gb.fit(X_train, y_train)"
      ],
      "execution_count": null,
      "outputs": [
        {
          "output_type": "execute_result",
          "data": {
            "text/plain": [
              "GradientBoostingClassifier(ccp_alpha=0.0, criterion='friedman_mse', init=None,\n",
              "                           learning_rate=0.1, loss='deviance', max_depth=3,\n",
              "                           max_features=None, max_leaf_nodes=None,\n",
              "                           min_impurity_decrease=0.0, min_impurity_split=None,\n",
              "                           min_samples_leaf=1, min_samples_split=2,\n",
              "                           min_weight_fraction_leaf=0.0, n_estimators=100,\n",
              "                           n_iter_no_change=None, presort='deprecated',\n",
              "                           random_state=42, subsample=1.0, tol=0.0001,\n",
              "                           validation_fraction=0.1, verbose=0,\n",
              "                           warm_start=False)"
            ]
          },
          "metadata": {},
          "execution_count": 17
        }
      ]
    },
    {
      "cell_type": "markdown",
      "metadata": {
        "id": "kbD6i71lOV7z"
      },
      "source": [
        "그래디언트 부스팅 모델을 불러온다.     \n",
        "모델에 학습데이터를 불러와 학습시킨다.       \n",
        "데이터 랜덤 배분 방식은 42으로 설정한다.     \n",
        "최대 나무가지 수는 3, 최소 잎의 수는 1, 최소 나뭇가지 수는 2로     \n",
        "100번 반복하여 학습시킨다.\n",
        "\n",
        "\n"
      ]
    },
    {
      "cell_type": "markdown",
      "metadata": {
        "id": "HO18GfVh9jCy"
      },
      "source": [
        "건드린 설정     \n",
        "random_state = 0 -> random_state=42     \n",
        "인터넷에서 찾은 코드들이 42방식으로 사용되는 코드들이 있었기에 42로 수정했다"
      ]
    },
    {
      "cell_type": "code",
      "metadata": {
        "colab": {
          "base_uri": "https://localhost:8080/"
        },
        "id": "z8RrPRsoHw8B",
        "outputId": "a375a98b-4b13-41d4-c612-4aa4b1164e79"
      },
      "source": [
        "pred = gb.predict(X_test)\n",
        "print(\"정확도 :{0:.3f}\".format(accuracy_score(y_test, pred)))"
      ],
      "execution_count": null,
      "outputs": [
        {
          "output_type": "stream",
          "name": "stdout",
          "text": [
            "정확도 :0.832\n"
          ]
        }
      ]
    },
    {
      "cell_type": "markdown",
      "metadata": {
        "id": "wM5n4FTUQuLu"
      },
      "source": [
        "정확도는 83.2%"
      ]
    },
    {
      "cell_type": "markdown",
      "metadata": {
        "id": "NQM-RK9AHKGK"
      },
      "source": [
        "# 최적화하기"
      ]
    },
    {
      "cell_type": "code",
      "metadata": {
        "id": "8v4WZMWIHzoH"
      },
      "source": [
        "gb_param_grid = {\n",
        "    'n_estimators' : [10,25,50, 100, 200],\n",
        "    'max_depth' : [8,10,12,18],\n",
        "    'min_samples_leaf' : [3, 5, 7, 10, 12, 18 ],\n",
        "    'min_samples_split' : [2, 3, 5, 10, 12,16, 20],\n",
        "    'learning_rate' : [0.05, 0.1, 0.2]\n",
        "}"
      ],
      "execution_count": null,
      "outputs": []
    },
    {
      "cell_type": "markdown",
      "metadata": {
        "id": "mcElZ7OVQzJW"
      },
      "source": [
        "그라디언트 부스팅 모델의 설정을    \n",
        "학습 반복 횟수는 10,25,50,100번, 200번    \n",
        "최대 나뭇가지 수는  8, 10, 12, 18    \n",
        "최소 잎의 수는 3, 5, 7, 10, 12, 18   \n",
        "최대 잎의 수는 2, 3, 5, 10, 12,  16, 20    \n",
        "학습률을  0.05, 0.1, 0.2     \n",
        "에서 가장 최적한 값으로 가장 높은 정확도의 모델을 찾는다.\n"
      ]
    },
    {
      "cell_type": "code",
      "metadata": {
        "id": "K54qFSGtH1b0",
        "colab": {
          "base_uri": "https://localhost:8080/"
        },
        "outputId": "a3ce8bb2-b170-4596-8e1c-b1f5a48e5ab9"
      },
      "source": [
        "gb_grid = GridSearchCV(gb, param_grid = gb_param_grid, scoring=\"accuracy\", n_jobs= -1, verbose = 1)\n",
        "gb_grid.fit(X_train, y_train)"
      ],
      "execution_count": null,
      "outputs": [
        {
          "output_type": "stream",
          "name": "stdout",
          "text": [
            "Fitting 5 folds for each of 2520 candidates, totalling 12600 fits\n"
          ]
        },
        {
          "output_type": "stream",
          "name": "stderr",
          "text": [
            "[Parallel(n_jobs=-1)]: Using backend LokyBackend with 2 concurrent workers.\n",
            "[Parallel(n_jobs=-1)]: Done  46 tasks      | elapsed:    9.0s\n",
            "[Parallel(n_jobs=-1)]: Done 196 tasks      | elapsed:   32.6s\n",
            "[Parallel(n_jobs=-1)]: Done 446 tasks      | elapsed:  1.1min\n",
            "[Parallel(n_jobs=-1)]: Done 796 tasks      | elapsed:  1.9min\n",
            "[Parallel(n_jobs=-1)]: Done 1246 tasks      | elapsed:  3.0min\n",
            "[Parallel(n_jobs=-1)]: Done 1796 tasks      | elapsed:  4.4min\n",
            "[Parallel(n_jobs=-1)]: Done 2446 tasks      | elapsed:  6.3min\n",
            "[Parallel(n_jobs=-1)]: Done 3196 tasks      | elapsed:  8.2min\n",
            "[Parallel(n_jobs=-1)]: Done 4046 tasks      | elapsed: 11.0min\n",
            "[Parallel(n_jobs=-1)]: Done 4996 tasks      | elapsed: 13.1min\n",
            "[Parallel(n_jobs=-1)]: Done 6046 tasks      | elapsed: 15.7min\n",
            "[Parallel(n_jobs=-1)]: Done 7196 tasks      | elapsed: 18.8min\n",
            "[Parallel(n_jobs=-1)]: Done 8446 tasks      | elapsed: 22.6min\n",
            "[Parallel(n_jobs=-1)]: Done 9796 tasks      | elapsed: 25.8min\n",
            "[Parallel(n_jobs=-1)]: Done 11246 tasks      | elapsed: 29.6min\n",
            "[Parallel(n_jobs=-1)]: Done 12600 out of 12600 | elapsed: 33.5min finished\n"
          ]
        },
        {
          "output_type": "execute_result",
          "data": {
            "text/plain": [
              "GridSearchCV(cv=None, error_score=nan,\n",
              "             estimator=GradientBoostingClassifier(ccp_alpha=0.0,\n",
              "                                                  criterion='friedman_mse',\n",
              "                                                  init=None, learning_rate=0.1,\n",
              "                                                  loss='deviance', max_depth=3,\n",
              "                                                  max_features=None,\n",
              "                                                  max_leaf_nodes=None,\n",
              "                                                  min_impurity_decrease=0.0,\n",
              "                                                  min_impurity_split=None,\n",
              "                                                  min_samples_leaf=1,\n",
              "                                                  min_samples_split=2,\n",
              "                                                  min_weight_fraction_leaf=0.0,\n",
              "                                                  n_estimators=100,\n",
              "                                                  n_iter_n...\n",
              "                                                  subsample=1.0, tol=0.0001,\n",
              "                                                  validation_fraction=0.1,\n",
              "                                                  verbose=0, warm_start=False),\n",
              "             iid='deprecated', n_jobs=-1,\n",
              "             param_grid={'learning_rate': [0.05, 0.1, 0.2],\n",
              "                         'max_depth': [8, 10, 12, 18],\n",
              "                         'min_samples_leaf': [3, 5, 7, 10, 12, 18],\n",
              "                         'min_samples_split': [2, 3, 5, 10, 12, 16, 20],\n",
              "                         'n_estimators': [10, 25, 50, 100, 200]},\n",
              "             pre_dispatch='2*n_jobs', refit=True, return_train_score=False,\n",
              "             scoring='accuracy', verbose=1)"
            ]
          },
          "metadata": {},
          "execution_count": 20
        }
      ]
    },
    {
      "cell_type": "markdown",
      "metadata": {
        "id": "nXoF-FDNRcGw"
      },
      "source": [
        "최적화 값을 찾기 위해 모델과 최적방법, 정확도가 쓰여진 학습하는 과정을 본다.    \n",
        "학습데이터를 불러와 학습한다."
      ]
    },
    {
      "cell_type": "code",
      "metadata": {
        "colab": {
          "base_uri": "https://localhost:8080/"
        },
        "id": "TFiJE-RdH24b",
        "outputId": "4d6d53c1-4c4e-4dbb-8312-7a4c02ca2c2d"
      },
      "source": [
        "print(\"최고 평균 정확도 : {0:.4f}\".format(gb_grid.best_score_))\n",
        "print(\"최고의 파라미터 : \", gb_grid.best_params_)"
      ],
      "execution_count": null,
      "outputs": [
        {
          "output_type": "stream",
          "name": "stdout",
          "text": [
            "최고 평균 정확도 : 0.8371\n",
            "최고의 파라미터 :  {'learning_rate': 0.2, 'max_depth': 12, 'min_samples_leaf': 5, 'min_samples_split': 20, 'n_estimators': 10}\n"
          ]
        }
      ]
    },
    {
      "cell_type": "markdown",
      "metadata": {
        "id": "2QS78B4JRzu3"
      },
      "source": [
        "최고 평균 정확도는 84.27%이고,\n",
        "최적의 값은 학습률 비율은 0.1, 최대 나뭇가지 수는 16, 최소잎의 수는 10, 최소 나무가지수는 2, 반복학습 횟수는 25번이 가장 최적화 된 설정이다."
      ]
    },
    {
      "cell_type": "markdown",
      "metadata": {
        "id": "x8w6m3son1BD"
      },
      "source": [
        "결과를 csv 파일 utf-8 형식으로 저장한다\n",
        "- 파일 경로를 지정하지 않을 시 drive의 상위폴더인 content에 파일이 저장된다.\n"
      ]
    },
    {
      "cell_type": "code",
      "metadata": {
        "id": "yKABbrz2IbdB",
        "colab": {
          "base_uri": "https://localhost:8080/"
        },
        "outputId": "66dd4012-a6e5-4ce4-c32b-91a9f7c95ff2"
      },
      "source": [
        "result = pd.DataFrame(gb_grid.cv_results_)\n",
        "result.columns"
      ],
      "execution_count": null,
      "outputs": [
        {
          "output_type": "execute_result",
          "data": {
            "text/plain": [
              "Index(['mean_fit_time', 'std_fit_time', 'mean_score_time', 'std_score_time',\n",
              "       'param_learning_rate', 'param_max_depth', 'param_min_samples_leaf',\n",
              "       'param_min_samples_split', 'param_n_estimators', 'params',\n",
              "       'split0_test_score', 'split1_test_score', 'split2_test_score',\n",
              "       'split3_test_score', 'split4_test_score', 'mean_test_score',\n",
              "       'std_test_score', 'rank_test_score'],\n",
              "      dtype='object')"
            ]
          },
          "metadata": {},
          "execution_count": 22
        }
      ]
    },
    {
      "cell_type": "markdown",
      "metadata": {
        "id": "EaXizqgNSRid"
      },
      "source": [
        "최적화의 최종결과값을 데이터 프레임으로 만들어 컬럼값을 불러온다."
      ]
    },
    {
      "cell_type": "code",
      "metadata": {
        "id": "b6iHkFfKIdxF"
      },
      "source": [
        "result.sort_values(by=['rank_test_score'], inplace=True)"
      ],
      "execution_count": null,
      "outputs": []
    },
    {
      "cell_type": "code",
      "metadata": {
        "id": "OV9qm8q2nzz6"
      },
      "source": [
        "result.to_csv(\"/content/drive/MyDrive/titanic/grap_result.csv\", encoding=\"utf-8\")"
      ],
      "execution_count": null,
      "outputs": []
    },
    {
      "cell_type": "markdown",
      "metadata": {
        "id": "ePPmfk1NSpIJ"
      },
      "source": [
        "그 중 rank_test_socre 에 소트값을 매겨 순위를 세운다. "
      ]
    },
    {
      "cell_type": "code",
      "metadata": {
        "id": "Tbit94u6IfEM",
        "colab": {
          "base_uri": "https://localhost:8080/",
          "height": 357
        },
        "outputId": "a98b6acb-1a35-45db-cb09-13356135f716"
      },
      "source": [
        "result[['params', 'mean_test_score', 'rank_test_score']].head(10)"
      ],
      "execution_count": null,
      "outputs": [
        {
          "output_type": "execute_result",
          "data": {
            "text/html": [
              "<div>\n",
              "<style scoped>\n",
              "    .dataframe tbody tr th:only-of-type {\n",
              "        vertical-align: middle;\n",
              "    }\n",
              "\n",
              "    .dataframe tbody tr th {\n",
              "        vertical-align: top;\n",
              "    }\n",
              "\n",
              "    .dataframe thead th {\n",
              "        text-align: right;\n",
              "    }\n",
              "</style>\n",
              "<table border=\"1\" class=\"dataframe\">\n",
              "  <thead>\n",
              "    <tr style=\"text-align: right;\">\n",
              "      <th></th>\n",
              "      <th>params</th>\n",
              "      <th>mean_test_score</th>\n",
              "      <th>rank_test_score</th>\n",
              "    </tr>\n",
              "  </thead>\n",
              "  <tbody>\n",
              "    <tr>\n",
              "      <th>2165</th>\n",
              "      <td>{'learning_rate': 0.2, 'max_depth': 12, 'min_s...</td>\n",
              "      <td>0.837083</td>\n",
              "      <td>1</td>\n",
              "    </tr>\n",
              "    <tr>\n",
              "      <th>1116</th>\n",
              "      <td>{'learning_rate': 0.1, 'max_depth': 10, 'min_s...</td>\n",
              "      <td>0.837073</td>\n",
              "      <td>2</td>\n",
              "    </tr>\n",
              "    <tr>\n",
              "      <th>487</th>\n",
              "      <td>{'learning_rate': 0.05, 'max_depth': 12, 'min_...</td>\n",
              "      <td>0.835694</td>\n",
              "      <td>3</td>\n",
              "    </tr>\n",
              "    <tr>\n",
              "      <th>266</th>\n",
              "      <td>{'learning_rate': 0.05, 'max_depth': 10, 'min_...</td>\n",
              "      <td>0.834276</td>\n",
              "      <td>4</td>\n",
              "    </tr>\n",
              "    <tr>\n",
              "      <th>57</th>\n",
              "      <td>{'learning_rate': 0.05, 'max_depth': 8, 'min_s...</td>\n",
              "      <td>0.834256</td>\n",
              "      <td>5</td>\n",
              "    </tr>\n",
              "    <tr>\n",
              "      <th>1745</th>\n",
              "      <td>{'learning_rate': 0.2, 'max_depth': 8, 'min_sa...</td>\n",
              "      <td>0.832877</td>\n",
              "      <td>6</td>\n",
              "    </tr>\n",
              "    <tr>\n",
              "      <th>2375</th>\n",
              "      <td>{'learning_rate': 0.2, 'max_depth': 18, 'min_s...</td>\n",
              "      <td>0.832877</td>\n",
              "      <td>6</td>\n",
              "    </tr>\n",
              "    <tr>\n",
              "      <th>896</th>\n",
              "      <td>{'learning_rate': 0.1, 'max_depth': 8, 'min_sa...</td>\n",
              "      <td>0.832877</td>\n",
              "      <td>6</td>\n",
              "    </tr>\n",
              "    <tr>\n",
              "      <th>446</th>\n",
              "      <td>{'learning_rate': 0.05, 'max_depth': 12, 'min_...</td>\n",
              "      <td>0.832867</td>\n",
              "      <td>9</td>\n",
              "    </tr>\n",
              "    <tr>\n",
              "      <th>1715</th>\n",
              "      <td>{'learning_rate': 0.2, 'max_depth': 8, 'min_sa...</td>\n",
              "      <td>0.832867</td>\n",
              "      <td>9</td>\n",
              "    </tr>\n",
              "  </tbody>\n",
              "</table>\n",
              "</div>"
            ],
            "text/plain": [
              "                                                 params  ...  rank_test_score\n",
              "2165  {'learning_rate': 0.2, 'max_depth': 12, 'min_s...  ...                1\n",
              "1116  {'learning_rate': 0.1, 'max_depth': 10, 'min_s...  ...                2\n",
              "487   {'learning_rate': 0.05, 'max_depth': 12, 'min_...  ...                3\n",
              "266   {'learning_rate': 0.05, 'max_depth': 10, 'min_...  ...                4\n",
              "57    {'learning_rate': 0.05, 'max_depth': 8, 'min_s...  ...                5\n",
              "1745  {'learning_rate': 0.2, 'max_depth': 8, 'min_sa...  ...                6\n",
              "2375  {'learning_rate': 0.2, 'max_depth': 18, 'min_s...  ...                6\n",
              "896   {'learning_rate': 0.1, 'max_depth': 8, 'min_sa...  ...                6\n",
              "446   {'learning_rate': 0.05, 'max_depth': 12, 'min_...  ...                9\n",
              "1715  {'learning_rate': 0.2, 'max_depth': 8, 'min_sa...  ...                9\n",
              "\n",
              "[10 rows x 3 columns]"
            ]
          },
          "metadata": {},
          "execution_count": 25
        }
      ]
    },
    {
      "cell_type": "markdown",
      "metadata": {
        "id": "KksCF9bXS5Me"
      },
      "source": [
        "가장 좋은 최적값의 순위 10개를 불러온다"
      ]
    },
    {
      "cell_type": "code",
      "metadata": {
        "id": "YWzypBpeIfok",
        "colab": {
          "base_uri": "https://localhost:8080/"
        },
        "outputId": "d2e5791e-294d-4290-d636-41df3d30f464"
      },
      "source": [
        "model = gb_grid.best_estimator_\n",
        "pred = model.predict(X_test)\n",
        "acc = accuracy_score(y_test, pred)\n",
        "print(\"정확도 : {0:.4f}\".format(acc))"
      ],
      "execution_count": null,
      "outputs": [
        {
          "output_type": "stream",
          "name": "stdout",
          "text": [
            "정확도 : 0.8659\n"
          ]
        }
      ]
    },
    {
      "cell_type": "markdown",
      "metadata": {
        "id": "CyA9na3sTIuW"
      },
      "source": [
        "최적화한 모델의 제일 좋은 모델의 값을 불러와    \n",
        "시험데이터를 넣고 학습하고 정확도를 본다    \n",
        "정확도는 86.59% 가 나왔다"
      ]
    },
    {
      "cell_type": "code",
      "metadata": {
        "id": "8mX21DFZIian"
      },
      "source": [
        " feature_importances = model.feature_importances_"
      ],
      "execution_count": null,
      "outputs": []
    },
    {
      "cell_type": "markdown",
      "metadata": {
        "id": "02Mm5uEzTauQ"
      },
      "source": [
        "결과값(생존)에 순위를 준 인자들을 보기 위해 컬럼값을 불러온다"
      ]
    },
    {
      "cell_type": "code",
      "metadata": {
        "id": "l7DvHCpRIkEf",
        "colab": {
          "base_uri": "https://localhost:8080/",
          "height": 607
        },
        "outputId": "1c1f4896-68c3-4ce4-fadd-985f12004953"
      },
      "source": [
        "ft_importances = pd.Series(feature_importances, index = X_train.columns)\n",
        "ft_importances = ft_importances.sort_values(ascending=False)\n",
        "\n",
        "plt.figure(figsize=(12, 10))\n",
        "plt.title(\"feature importances\")\n",
        "sns.barplot(x=ft_importances, y = X_train.columns)\n",
        "plt.show()"
      ],
      "execution_count": null,
      "outputs": [
        {
          "output_type": "display_data",
          "data": {
            "image/png": "[encoded data removed]",
            "text/plain": [
              "<Figure size 864x720 with 1 Axes>"
            ]
          },
          "metadata": {
            "needs_background": "light"
          }
        }
      ]
    },
    {
      "cell_type": "markdown",
      "metadata": {
        "id": "HogK7xfGTjv-"
      },
      "source": [
        "생존에 영향을 미친 1위는 클래스 등급, 2위는 성별, 3위는 나이, 4위는 함께 탑승한 형제/배우자의 수가 연관성이 많은 것으로 보인다."
      ]
    },
    {
      "cell_type": "markdown",
      "metadata": {
        "id": "rKTgZ7PpHamy"
      },
      "source": [
        "# 최적화 모델적용"
      ]
    },
    {
      "cell_type": "code",
      "metadata": {
        "id": "9jRS1bwPH8KY"
      },
      "source": [
        "import pandas as pd\n",
        "import numpy as np\n",
        "\n",
        "grid_data = pd.read_csv('/content/drive/MyDrive/titanic/grap_result.csv')"
      ],
      "execution_count": null,
      "outputs": []
    },
    {
      "cell_type": "markdown",
      "metadata": {
        "id": "o8jvlK5LN95a"
      },
      "source": [
        "mean과 best값이 차이가 많이 나기에 파일을 보기 위해 저장한 grap_result를 불러온다\n",
        "\n"
      ]
    },
    {
      "cell_type": "code",
      "metadata": {
        "colab": {
          "base_uri": "https://localhost:8080/",
          "height": 492
        },
        "id": "hR74d1SmJrag",
        "outputId": "40a28f60-24a1-4e1c-c6d6-40b48d54ea40"
      },
      "source": [
        "grid_data.head()"
      ],
      "execution_count": null,
      "outputs": [
        {
          "output_type": "execute_result",
          "data": {
            "text/html": [
              "<div>\n",
              "<style scoped>\n",
              "    .dataframe tbody tr th:only-of-type {\n",
              "        vertical-align: middle;\n",
              "    }\n",
              "\n",
              "    .dataframe tbody tr th {\n",
              "        vertical-align: top;\n",
              "    }\n",
              "\n",
              "    .dataframe thead th {\n",
              "        text-align: right;\n",
              "    }\n",
              "</style>\n",
              "<table border=\"1\" class=\"dataframe\">\n",
              "  <thead>\n",
              "    <tr style=\"text-align: right;\">\n",
              "      <th></th>\n",
              "      <th>Unnamed: 0</th>\n",
              "      <th>mean_fit_time</th>\n",
              "      <th>std_fit_time</th>\n",
              "      <th>mean_score_time</th>\n",
              "      <th>std_score_time</th>\n",
              "      <th>param_learning_rate</th>\n",
              "      <th>param_max_depth</th>\n",
              "      <th>param_min_samples_leaf</th>\n",
              "      <th>param_min_samples_split</th>\n",
              "      <th>param_n_estimators</th>\n",
              "      <th>params</th>\n",
              "      <th>split0_test_score</th>\n",
              "      <th>split1_test_score</th>\n",
              "      <th>split2_test_score</th>\n",
              "      <th>split3_test_score</th>\n",
              "      <th>split4_test_score</th>\n",
              "      <th>mean_test_score</th>\n",
              "      <th>std_test_score</th>\n",
              "      <th>rank_test_score</th>\n",
              "    </tr>\n",
              "  </thead>\n",
              "  <tbody>\n",
              "    <tr>\n",
              "      <th>0</th>\n",
              "      <td>2165</td>\n",
              "      <td>0.044341</td>\n",
              "      <td>0.002345</td>\n",
              "      <td>0.002227</td>\n",
              "      <td>0.000056</td>\n",
              "      <td>0.20</td>\n",
              "      <td>12</td>\n",
              "      <td>5</td>\n",
              "      <td>20</td>\n",
              "      <td>10</td>\n",
              "      <td>{'learning_rate': 0.2, 'max_depth': 12, 'min_s...</td>\n",
              "      <td>0.839161</td>\n",
              "      <td>0.832168</td>\n",
              "      <td>0.838028</td>\n",
              "      <td>0.852113</td>\n",
              "      <td>0.823944</td>\n",
              "      <td>0.837083</td>\n",
              "      <td>0.009251</td>\n",
              "      <td>1</td>\n",
              "    </tr>\n",
              "    <tr>\n",
              "      <th>1</th>\n",
              "      <td>1116</td>\n",
              "      <td>0.103241</td>\n",
              "      <td>0.005770</td>\n",
              "      <td>0.002330</td>\n",
              "      <td>0.000052</td>\n",
              "      <td>0.10</td>\n",
              "      <td>10</td>\n",
              "      <td>5</td>\n",
              "      <td>20</td>\n",
              "      <td>25</td>\n",
              "      <td>{'learning_rate': 0.1, 'max_depth': 10, 'min_s...</td>\n",
              "      <td>0.839161</td>\n",
              "      <td>0.839161</td>\n",
              "      <td>0.823944</td>\n",
              "      <td>0.859155</td>\n",
              "      <td>0.823944</td>\n",
              "      <td>0.837073</td>\n",
              "      <td>0.012970</td>\n",
              "      <td>2</td>\n",
              "    </tr>\n",
              "    <tr>\n",
              "      <th>2</th>\n",
              "      <td>487</td>\n",
              "      <td>0.214950</td>\n",
              "      <td>0.003218</td>\n",
              "      <td>0.002745</td>\n",
              "      <td>0.000260</td>\n",
              "      <td>0.05</td>\n",
              "      <td>12</td>\n",
              "      <td>5</td>\n",
              "      <td>20</td>\n",
              "      <td>50</td>\n",
              "      <td>{'learning_rate': 0.05, 'max_depth': 12, 'min_...</td>\n",
              "      <td>0.832168</td>\n",
              "      <td>0.825175</td>\n",
              "      <td>0.838028</td>\n",
              "      <td>0.859155</td>\n",
              "      <td>0.823944</td>\n",
              "      <td>0.835694</td>\n",
              "      <td>0.012783</td>\n",
              "      <td>3</td>\n",
              "    </tr>\n",
              "    <tr>\n",
              "      <th>3</th>\n",
              "      <td>266</td>\n",
              "      <td>0.126335</td>\n",
              "      <td>0.005301</td>\n",
              "      <td>0.002492</td>\n",
              "      <td>0.000086</td>\n",
              "      <td>0.05</td>\n",
              "      <td>10</td>\n",
              "      <td>5</td>\n",
              "      <td>12</td>\n",
              "      <td>25</td>\n",
              "      <td>{'learning_rate': 0.05, 'max_depth': 10, 'min_...</td>\n",
              "      <td>0.818182</td>\n",
              "      <td>0.846154</td>\n",
              "      <td>0.838028</td>\n",
              "      <td>0.830986</td>\n",
              "      <td>0.838028</td>\n",
              "      <td>0.834276</td>\n",
              "      <td>0.009371</td>\n",
              "      <td>4</td>\n",
              "    </tr>\n",
              "    <tr>\n",
              "      <th>4</th>\n",
              "      <td>57</td>\n",
              "      <td>0.211298</td>\n",
              "      <td>0.004918</td>\n",
              "      <td>0.003182</td>\n",
              "      <td>0.001029</td>\n",
              "      <td>0.05</td>\n",
              "      <td>8</td>\n",
              "      <td>5</td>\n",
              "      <td>12</td>\n",
              "      <td>50</td>\n",
              "      <td>{'learning_rate': 0.05, 'max_depth': 8, 'min_s...</td>\n",
              "      <td>0.839161</td>\n",
              "      <td>0.839161</td>\n",
              "      <td>0.823944</td>\n",
              "      <td>0.845070</td>\n",
              "      <td>0.823944</td>\n",
              "      <td>0.834256</td>\n",
              "      <td>0.008692</td>\n",
              "      <td>5</td>\n",
              "    </tr>\n",
              "  </tbody>\n",
              "</table>\n",
              "</div>"
            ],
            "text/plain": [
              "   Unnamed: 0  mean_fit_time  ...  std_test_score  rank_test_score\n",
              "0        2165       0.044341  ...        0.009251                1\n",
              "1        1116       0.103241  ...        0.012970                2\n",
              "2         487       0.214950  ...        0.012783                3\n",
              "3         266       0.126335  ...        0.009371                4\n",
              "4          57       0.211298  ...        0.008692                5\n",
              "\n",
              "[5 rows x 19 columns]"
            ]
          },
          "metadata": {},
          "execution_count": 30
        }
      ]
    },
    {
      "cell_type": "markdown",
      "metadata": {
        "id": "SiKIIrNHOGic"
      },
      "source": [
        "정상적으로 불러와졌는지 상위데이터보기"
      ]
    },
    {
      "cell_type": "code",
      "metadata": {
        "id": "FL0bZuOHJ2ML"
      },
      "source": [
        "grid_data.sort_values(by=['rank_test_score'], inplace=True)"
      ],
      "execution_count": null,
      "outputs": []
    },
    {
      "cell_type": "markdown",
      "metadata": {
        "id": "VJ3sTel0OKJn"
      },
      "source": [
        "순위를 매겨 파일을 불러온다"
      ]
    },
    {
      "cell_type": "code",
      "metadata": {
        "colab": {
          "base_uri": "https://localhost:8080/",
          "height": 898
        },
        "id": "S5xU6DknKA8x",
        "outputId": "17860d9f-62ff-4c60-ffe7-ecb4ca4c3363"
      },
      "source": [
        "grid_data.head(10)"
      ],
      "execution_count": null,
      "outputs": [
        {
          "output_type": "execute_result",
          "data": {
            "text/html": [
              "<div>\n",
              "<style scoped>\n",
              "    .dataframe tbody tr th:only-of-type {\n",
              "        vertical-align: middle;\n",
              "    }\n",
              "\n",
              "    .dataframe tbody tr th {\n",
              "        vertical-align: top;\n",
              "    }\n",
              "\n",
              "    .dataframe thead th {\n",
              "        text-align: right;\n",
              "    }\n",
              "</style>\n",
              "<table border=\"1\" class=\"dataframe\">\n",
              "  <thead>\n",
              "    <tr style=\"text-align: right;\">\n",
              "      <th></th>\n",
              "      <th>Unnamed: 0</th>\n",
              "      <th>mean_fit_time</th>\n",
              "      <th>std_fit_time</th>\n",
              "      <th>mean_score_time</th>\n",
              "      <th>std_score_time</th>\n",
              "      <th>param_learning_rate</th>\n",
              "      <th>param_max_depth</th>\n",
              "      <th>param_min_samples_leaf</th>\n",
              "      <th>param_min_samples_split</th>\n",
              "      <th>param_n_estimators</th>\n",
              "      <th>params</th>\n",
              "      <th>split0_test_score</th>\n",
              "      <th>split1_test_score</th>\n",
              "      <th>split2_test_score</th>\n",
              "      <th>split3_test_score</th>\n",
              "      <th>split4_test_score</th>\n",
              "      <th>mean_test_score</th>\n",
              "      <th>std_test_score</th>\n",
              "      <th>rank_test_score</th>\n",
              "    </tr>\n",
              "  </thead>\n",
              "  <tbody>\n",
              "    <tr>\n",
              "      <th>0</th>\n",
              "      <td>2165</td>\n",
              "      <td>0.044341</td>\n",
              "      <td>0.002345</td>\n",
              "      <td>0.002227</td>\n",
              "      <td>0.000056</td>\n",
              "      <td>0.20</td>\n",
              "      <td>12</td>\n",
              "      <td>5</td>\n",
              "      <td>20</td>\n",
              "      <td>10</td>\n",
              "      <td>{'learning_rate': 0.2, 'max_depth': 12, 'min_s...</td>\n",
              "      <td>0.839161</td>\n",
              "      <td>0.832168</td>\n",
              "      <td>0.838028</td>\n",
              "      <td>0.852113</td>\n",
              "      <td>0.823944</td>\n",
              "      <td>0.837083</td>\n",
              "      <td>0.009251</td>\n",
              "      <td>1</td>\n",
              "    </tr>\n",
              "    <tr>\n",
              "      <th>1</th>\n",
              "      <td>1116</td>\n",
              "      <td>0.103241</td>\n",
              "      <td>0.005770</td>\n",
              "      <td>0.002330</td>\n",
              "      <td>0.000052</td>\n",
              "      <td>0.10</td>\n",
              "      <td>10</td>\n",
              "      <td>5</td>\n",
              "      <td>20</td>\n",
              "      <td>25</td>\n",
              "      <td>{'learning_rate': 0.1, 'max_depth': 10, 'min_s...</td>\n",
              "      <td>0.839161</td>\n",
              "      <td>0.839161</td>\n",
              "      <td>0.823944</td>\n",
              "      <td>0.859155</td>\n",
              "      <td>0.823944</td>\n",
              "      <td>0.837073</td>\n",
              "      <td>0.012970</td>\n",
              "      <td>2</td>\n",
              "    </tr>\n",
              "    <tr>\n",
              "      <th>2</th>\n",
              "      <td>487</td>\n",
              "      <td>0.214950</td>\n",
              "      <td>0.003218</td>\n",
              "      <td>0.002745</td>\n",
              "      <td>0.000260</td>\n",
              "      <td>0.05</td>\n",
              "      <td>12</td>\n",
              "      <td>5</td>\n",
              "      <td>20</td>\n",
              "      <td>50</td>\n",
              "      <td>{'learning_rate': 0.05, 'max_depth': 12, 'min_...</td>\n",
              "      <td>0.832168</td>\n",
              "      <td>0.825175</td>\n",
              "      <td>0.838028</td>\n",
              "      <td>0.859155</td>\n",
              "      <td>0.823944</td>\n",
              "      <td>0.835694</td>\n",
              "      <td>0.012783</td>\n",
              "      <td>3</td>\n",
              "    </tr>\n",
              "    <tr>\n",
              "      <th>3</th>\n",
              "      <td>266</td>\n",
              "      <td>0.126335</td>\n",
              "      <td>0.005301</td>\n",
              "      <td>0.002492</td>\n",
              "      <td>0.000086</td>\n",
              "      <td>0.05</td>\n",
              "      <td>10</td>\n",
              "      <td>5</td>\n",
              "      <td>12</td>\n",
              "      <td>25</td>\n",
              "      <td>{'learning_rate': 0.05, 'max_depth': 10, 'min_...</td>\n",
              "      <td>0.818182</td>\n",
              "      <td>0.846154</td>\n",
              "      <td>0.838028</td>\n",
              "      <td>0.830986</td>\n",
              "      <td>0.838028</td>\n",
              "      <td>0.834276</td>\n",
              "      <td>0.009371</td>\n",
              "      <td>4</td>\n",
              "    </tr>\n",
              "    <tr>\n",
              "      <th>4</th>\n",
              "      <td>57</td>\n",
              "      <td>0.211298</td>\n",
              "      <td>0.004918</td>\n",
              "      <td>0.003182</td>\n",
              "      <td>0.001029</td>\n",
              "      <td>0.05</td>\n",
              "      <td>8</td>\n",
              "      <td>5</td>\n",
              "      <td>12</td>\n",
              "      <td>50</td>\n",
              "      <td>{'learning_rate': 0.05, 'max_depth': 8, 'min_s...</td>\n",
              "      <td>0.839161</td>\n",
              "      <td>0.839161</td>\n",
              "      <td>0.823944</td>\n",
              "      <td>0.845070</td>\n",
              "      <td>0.823944</td>\n",
              "      <td>0.834256</td>\n",
              "      <td>0.008692</td>\n",
              "      <td>5</td>\n",
              "    </tr>\n",
              "    <tr>\n",
              "      <th>5</th>\n",
              "      <td>1745</td>\n",
              "      <td>0.039061</td>\n",
              "      <td>0.001949</td>\n",
              "      <td>0.002108</td>\n",
              "      <td>0.000030</td>\n",
              "      <td>0.20</td>\n",
              "      <td>8</td>\n",
              "      <td>5</td>\n",
              "      <td>20</td>\n",
              "      <td>10</td>\n",
              "      <td>{'learning_rate': 0.2, 'max_depth': 8, 'min_sa...</td>\n",
              "      <td>0.832168</td>\n",
              "      <td>0.825175</td>\n",
              "      <td>0.845070</td>\n",
              "      <td>0.830986</td>\n",
              "      <td>0.830986</td>\n",
              "      <td>0.832877</td>\n",
              "      <td>0.006567</td>\n",
              "      <td>6</td>\n",
              "    </tr>\n",
              "    <tr>\n",
              "      <th>6</th>\n",
              "      <td>2375</td>\n",
              "      <td>0.046207</td>\n",
              "      <td>0.000651</td>\n",
              "      <td>0.002210</td>\n",
              "      <td>0.000084</td>\n",
              "      <td>0.20</td>\n",
              "      <td>18</td>\n",
              "      <td>5</td>\n",
              "      <td>20</td>\n",
              "      <td>10</td>\n",
              "      <td>{'learning_rate': 0.2, 'max_depth': 18, 'min_s...</td>\n",
              "      <td>0.832168</td>\n",
              "      <td>0.825175</td>\n",
              "      <td>0.838028</td>\n",
              "      <td>0.852113</td>\n",
              "      <td>0.816901</td>\n",
              "      <td>0.832877</td>\n",
              "      <td>0.011930</td>\n",
              "      <td>6</td>\n",
              "    </tr>\n",
              "    <tr>\n",
              "      <th>7</th>\n",
              "      <td>896</td>\n",
              "      <td>0.110160</td>\n",
              "      <td>0.008118</td>\n",
              "      <td>0.002736</td>\n",
              "      <td>0.000341</td>\n",
              "      <td>0.10</td>\n",
              "      <td>8</td>\n",
              "      <td>5</td>\n",
              "      <td>12</td>\n",
              "      <td>25</td>\n",
              "      <td>{'learning_rate': 0.1, 'max_depth': 8, 'min_sa...</td>\n",
              "      <td>0.825175</td>\n",
              "      <td>0.832168</td>\n",
              "      <td>0.823944</td>\n",
              "      <td>0.859155</td>\n",
              "      <td>0.823944</td>\n",
              "      <td>0.832877</td>\n",
              "      <td>0.013490</td>\n",
              "      <td>6</td>\n",
              "    </tr>\n",
              "    <tr>\n",
              "      <th>12</th>\n",
              "      <td>1730</td>\n",
              "      <td>0.046059</td>\n",
              "      <td>0.001050</td>\n",
              "      <td>0.002240</td>\n",
              "      <td>0.000173</td>\n",
              "      <td>0.20</td>\n",
              "      <td>8</td>\n",
              "      <td>5</td>\n",
              "      <td>10</td>\n",
              "      <td>10</td>\n",
              "      <td>{'learning_rate': 0.2, 'max_depth': 8, 'min_sa...</td>\n",
              "      <td>0.825175</td>\n",
              "      <td>0.839161</td>\n",
              "      <td>0.830986</td>\n",
              "      <td>0.852113</td>\n",
              "      <td>0.816901</td>\n",
              "      <td>0.832867</td>\n",
              "      <td>0.012063</td>\n",
              "      <td>9</td>\n",
              "    </tr>\n",
              "    <tr>\n",
              "      <th>11</th>\n",
              "      <td>1725</td>\n",
              "      <td>0.046859</td>\n",
              "      <td>0.002556</td>\n",
              "      <td>0.003796</td>\n",
              "      <td>0.002871</td>\n",
              "      <td>0.20</td>\n",
              "      <td>8</td>\n",
              "      <td>5</td>\n",
              "      <td>5</td>\n",
              "      <td>10</td>\n",
              "      <td>{'learning_rate': 0.2, 'max_depth': 8, 'min_sa...</td>\n",
              "      <td>0.825175</td>\n",
              "      <td>0.839161</td>\n",
              "      <td>0.830986</td>\n",
              "      <td>0.852113</td>\n",
              "      <td>0.816901</td>\n",
              "      <td>0.832867</td>\n",
              "      <td>0.012063</td>\n",
              "      <td>9</td>\n",
              "    </tr>\n",
              "  </tbody>\n",
              "</table>\n",
              "</div>"
            ],
            "text/plain": [
              "    Unnamed: 0  mean_fit_time  ...  std_test_score  rank_test_score\n",
              "0         2165       0.044341  ...        0.009251                1\n",
              "1         1116       0.103241  ...        0.012970                2\n",
              "2          487       0.214950  ...        0.012783                3\n",
              "3          266       0.126335  ...        0.009371                4\n",
              "4           57       0.211298  ...        0.008692                5\n",
              "5         1745       0.039061  ...        0.006567                6\n",
              "6         2375       0.046207  ...        0.011930                6\n",
              "7          896       0.110160  ...        0.013490                6\n",
              "12        1730       0.046059  ...        0.012063                9\n",
              "11        1725       0.046859  ...        0.012063                9\n",
              "\n",
              "[10 rows x 19 columns]"
            ]
          },
          "metadata": {},
          "execution_count": 32
        }
      ]
    },
    {
      "cell_type": "markdown",
      "metadata": {
        "id": "QTW43P0cOnxd"
      },
      "source": [
        "1위는 정확도가 83아래로 떨어지지 않았고 가장높은 값이 85.21%,               \n",
        "2위는 정확도가 세번 째에서 82로 떨어졌고 가장높은 값이 85.91%으로 2위로 판정되었다"
      ]
    },
    {
      "cell_type": "code",
      "metadata": {
        "colab": {
          "base_uri": "https://localhost:8080/"
        },
        "id": "9CSlH4H1PMW4",
        "outputId": "62c1489d-f546-4494-fdd9-f518d951b431"
      },
      "source": [
        "rf = RandomForestClassifier(max_depth= 12, min_samples_leaf= 5, min_samples_split= 20, n_estimators= 10,random_state=42)\n",
        "rf.fit(X_train, y_train)"
      ],
      "execution_count": null,
      "outputs": [
        {
          "output_type": "execute_result",
          "data": {
            "text/plain": [
              "RandomForestClassifier(bootstrap=True, ccp_alpha=0.0, class_weight=None,\n",
              "                       criterion='gini', max_depth=12, max_features='auto',\n",
              "                       max_leaf_nodes=None, max_samples=None,\n",
              "                       min_impurity_decrease=0.0, min_impurity_split=None,\n",
              "                       min_samples_leaf=5, min_samples_split=20,\n",
              "                       min_weight_fraction_leaf=0.0, n_estimators=10,\n",
              "                       n_jobs=None, oob_score=False, random_state=42, verbose=0,\n",
              "                       warm_start=False)"
            ]
          },
          "metadata": {},
          "execution_count": 33
        }
      ]
    },
    {
      "cell_type": "markdown",
      "metadata": {
        "id": "pUgUhh40UVT9"
      },
      "source": [
        "1위 모델의 값을 가져와 입력한다    \n",
        "'learning_rate=0.1'는 결정할 수 없는 걸로 보여 설정에서 제외됬다 \n",
        "\n",
        "- {'learning_rate': 0.2, 'max_depth': 12, 'min_samples_leaf': 5, 'min_samples_split': 20, 'n_estimators': 10}"
      ]
    },
    {
      "cell_type": "code",
      "metadata": {
        "colab": {
          "base_uri": "https://localhost:8080/"
        },
        "id": "Scuyy1YOTMED",
        "outputId": "8c318d56-e1c0-4215-ba95-1f02c8a7b417"
      },
      "source": [
        "pred = rf.predict(X_test)\n",
        "print(\"정확도 :{0:.4f}\".format(accuracy_score(y_test, pred)))"
      ],
      "execution_count": null,
      "outputs": [
        {
          "output_type": "stream",
          "name": "stdout",
          "text": [
            "정확도 :0.8212\n"
          ]
        }
      ]
    },
    {
      "cell_type": "markdown",
      "metadata": {
        "id": "edYg0DAEUgbD"
      },
      "source": [
        "1위 모델의 정확도는 82.12% 다"
      ]
    },
    {
      "cell_type": "code",
      "metadata": {
        "colab": {
          "base_uri": "https://localhost:8080/"
        },
        "id": "r5UvPPZHUre9",
        "outputId": "f88ab284-4a3a-4ea3-c8ce-c6bd5e6d947c"
      },
      "source": [
        "rf = RandomForestClassifier(max_depth= 10, min_samples_leaf= 5, min_samples_split= 20, n_estimators= 25,random_state=42)\n",
        "rf.fit(X_train, y_train)"
      ],
      "execution_count": null,
      "outputs": [
        {
          "output_type": "execute_result",
          "data": {
            "text/plain": [
              "RandomForestClassifier(bootstrap=True, ccp_alpha=0.0, class_weight=None,\n",
              "                       criterion='gini', max_depth=10, max_features='auto',\n",
              "                       max_leaf_nodes=None, max_samples=None,\n",
              "                       min_impurity_decrease=0.0, min_impurity_split=None,\n",
              "                       min_samples_leaf=5, min_samples_split=20,\n",
              "                       min_weight_fraction_leaf=0.0, n_estimators=25,\n",
              "                       n_jobs=None, oob_score=False, random_state=42, verbose=0,\n",
              "                       warm_start=False)"
            ]
          },
          "metadata": {},
          "execution_count": 35
        }
      ]
    },
    {
      "cell_type": "markdown",
      "metadata": {
        "id": "dJpxHBcMVFuV"
      },
      "source": [
        "2위 모델의 값을 가져온다\n",
        "- {'learning_rate': 0.1, 'max_depth': 10, 'min_samples_leaf': 5, 'min_samples_split': 20, 'n_estimators': 25}\""
      ]
    },
    {
      "cell_type": "code",
      "metadata": {
        "colab": {
          "base_uri": "https://localhost:8080/"
        },
        "id": "gNJTBxfRVDhO",
        "outputId": "1e6d1bc5-2322-4b10-9ac8-4c61791c7c27"
      },
      "source": [
        "pred = rf.predict(X_test)\n",
        "print(\"정확도 :{0:.4f}\".format(accuracy_score(y_test, pred)))"
      ],
      "execution_count": null,
      "outputs": [
        {
          "output_type": "stream",
          "name": "stdout",
          "text": [
            "정확도 :0.8268\n"
          ]
        }
      ]
    },
    {
      "cell_type": "markdown",
      "metadata": {
        "id": "5Uc3lBD1VJWC"
      },
      "source": [
        "정확도는 82.68로 나왔다"
      ]
    },
    {
      "cell_type": "markdown",
      "metadata": {
        "id": "-dCXwN1833Zo"
      },
      "source": [
        "가장높은 값은 86.61 1956으로,평균이 82.02로 순위가 430번 째였다"
      ]
    },
    {
      "cell_type": "markdown",
      "metadata": {
        "id": "tTNmEBMqbvjE"
      },
      "source": [
        " - 오류    \n",
        " 'n_estimators'는 중복되어 들어가서 오류난 것이었다."
      ]
    },
    {
      "cell_type": "code",
      "metadata": {
        "id": "r8hzHPq6au-5"
      },
      "source": [
        ""
      ],
      "execution_count": null,
      "outputs": []
    }
  ]
}